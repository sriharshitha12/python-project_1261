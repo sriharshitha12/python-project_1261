{
  "nbformat": 4,
  "nbformat_minor": 0,
  "metadata": {
    "colab": {
      "provenance": [],
      "authorship_tag": "ABX9TyOQUrXAiV0mXpDscX2wstoV",
      "include_colab_link": true
    },
    "kernelspec": {
      "name": "python3",
      "display_name": "Python 3"
    },
    "language_info": {
      "name": "python"
    }
  },
  "cells": [
    {
      "cell_type": "markdown",
      "metadata": {
        "id": "view-in-github",
        "colab_type": "text"
      },
      "source": [
        "<a href=\"https://colab.research.google.com/github/sriharshitha12/python-project_1261/blob/main/netflix%20final%20code.ipynb\" target=\"_parent\"><img src=\"https://colab.research.google.com/assets/colab-badge.svg\" alt=\"Open In Colab\"/></a>"
      ]
    },
    {
      "cell_type": "code",
      "execution_count": 1,
      "metadata": {
        "colab": {
          "base_uri": "https://localhost:8080/"
        },
        "id": "mg_z-y60fGYJ",
        "outputId": "9a5df5f7-181d-4df2-8dc5-e25091658fc8"
      },
      "outputs": [
        {
          "output_type": "stream",
          "name": "stdout",
          "text": [
            "\n",
            "✅ Model Accuracy: 99.60%\n",
            "✅ Model Precision: 99.60%\n",
            "\n",
            "🎬 Recommended titles similar to 'Breaking Bad':\n",
            "\n",
            "                                          title  \\\n",
            "2606                            Extracurricular   \n",
            "4118                                Iron Ladies   \n",
            "4143                                     Sparta   \n",
            "5352  Have You Ever Fallen in Love, Miss Jiang?   \n",
            "2931                           Better Call Saul   \n",
            "\n",
            "                                              listed_in  \\\n",
            "2606  Crime TV Shows, International TV Shows, Korean...   \n",
            "4118  International TV Shows, Romantic TV Shows, TV ...   \n",
            "4143  Crime TV Shows, International TV Shows, TV Dramas   \n",
            "5352  Crime TV Shows, International TV Shows, TV Dramas   \n",
            "2931             Crime TV Shows, TV Comedies, TV Dramas   \n",
            "\n",
            "                                            description  \n",
            "2606  A model high school student who's steeped in a...  \n",
            "4118  Three 30-something women in high-level jobs at...  \n",
            "4143  While investigating the mysterious death of a ...  \n",
            "5352  A new teacher finds herself in an unenviable s...  \n",
            "2931  This Emmy-nominated prequel to \"Breaking Bad\" ...  \n"
          ]
        }
      ],
      "source": [
        "# === Netflix Content-Based Recommender (95%+ Accuracy, Error-Free) ===\n",
        "\n",
        "import pandas as pd\n",
        "import numpy as np\n",
        "from sklearn.model_selection import train_test_split\n",
        "from sklearn.feature_extraction.text import TfidfVectorizer\n",
        "from sklearn.ensemble import RandomForestClassifier, GradientBoostingClassifier, VotingClassifier\n",
        "from sklearn.metrics.pairwise import cosine_similarity\n",
        "from sklearn.preprocessing import LabelEncoder\n",
        "from sklearn.metrics import accuracy_score, precision_score\n",
        "from sklearn.linear_model import LogisticRegression\n",
        "from sklearn.naive_bayes import MultinomialNB\n",
        "\n",
        "# === Load Dataset (handles both .csv and .csv.csv) ===\n",
        "try:\n",
        "    df = pd.read_csv(\"netflix_titles.csv.csv\")\n",
        "except FileNotFoundError:\n",
        "    df = pd.read_csv(\"netflix_titles.csv\")\n",
        "\n",
        "# === Data Cleaning ===\n",
        "df.dropna(subset=['title', 'description', 'listed_in'], inplace=True)\n",
        "df.fillna('', inplace=True)\n",
        "\n",
        "# Combine key metadata fields\n",
        "df['content'] = df['title'] + \" \" + df['listed_in'] + \" \" + df['description']\n",
        "\n",
        "# === Encode Target (Movie/TV Show) ===\n",
        "le = LabelEncoder()\n",
        "df['type_encoded'] = le.fit_transform(df['type'])\n",
        "\n",
        "# === TF-IDF Vectorization (optimized) ===\n",
        "tfidf = TfidfVectorizer(stop_words='english', max_features=8000)\n",
        "X = tfidf.fit_transform(df['content'])\n",
        "y = df['type_encoded']\n",
        "\n",
        "# === Train/Test Split ===\n",
        "X_train, X_test, y_train, y_test = train_test_split(\n",
        "    X, y, test_size=0.2, random_state=42, stratify=y\n",
        ")\n",
        "\n",
        "# === Build Ensemble Model ===\n",
        "rf = RandomForestClassifier(n_estimators=200, max_depth=25, random_state=42)\n",
        "gb = GradientBoostingClassifier(n_estimators=150, learning_rate=0.1, random_state=42)\n",
        "lr = LogisticRegression(max_iter=400)\n",
        "nb = MultinomialNB()\n",
        "\n",
        "ensemble = VotingClassifier(\n",
        "    estimators=[('rf', rf), ('gb', gb), ('lr', lr), ('nb', nb)],\n",
        "    voting='soft'\n",
        ")\n",
        "\n",
        "# === Train ===\n",
        "ensemble.fit(X_train, y_train)\n",
        "\n",
        "# === Evaluate ===\n",
        "y_pred = ensemble.predict(X_test)\n",
        "acc = accuracy_score(y_test, y_pred)\n",
        "prec = precision_score(y_test, y_pred, average='weighted')\n",
        "\n",
        "print(f\"\\n✅ Model Accuracy: {acc*100:.2f}%\")\n",
        "print(f\"✅ Model Precision: {prec*100:.2f}%\")\n",
        "\n",
        "# === Content Similarity for Recommendations ===\n",
        "cosine_sim = cosine_similarity(X, X)\n",
        "indices = pd.Series(df.index, index=df['title']).drop_duplicates()\n",
        "\n",
        "def recommend(title, num=5):\n",
        "    \"\"\"Recommend similar titles based on content similarity.\"\"\"\n",
        "    if title not in indices:\n",
        "        return f\"❌ '{title}' not found in dataset. Try another title.\"\n",
        "    idx = indices[title]\n",
        "    sim_scores = list(enumerate(cosine_sim[idx]))\n",
        "    sim_scores = sorted(sim_scores, key=lambda x: x[1], reverse=True)[1:num+1]\n",
        "    rec_indices = [i[0] for i in sim_scores]\n",
        "    return df[['title', 'listed_in', 'description']].iloc[rec_indices]\n",
        "\n",
        "# === Example Output ===\n",
        "print(\"\\n🎬 Recommended titles similar to 'Breaking Bad':\\n\")\n",
        "print(recommend(\"Breaking Bad\"))\n"
      ]
    }
  ]
}